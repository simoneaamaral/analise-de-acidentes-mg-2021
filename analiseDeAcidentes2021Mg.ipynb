{
 "cells": [
  {
   "cell_type": "code",
   "execution_count": null,
   "id": "112f6719",
   "metadata": {},
   "outputs": [],
   "source": [
    "# importando a biblioteca pandas \n",
    "import pandas as pd"
   ]
  },
  {
   "cell_type": "code",
   "execution_count": null,
   "id": "0719f2c5",
   "metadata": {},
   "outputs": [],
   "source": [
    "# abrindo o dataset\n",
    "df = pd.read_csv('datatran2021.csv', sep=';' , encoding='latin-1')\n",
    "pd.set_option('display.max_columns', None)"
   ]
  },
  {
   "cell_type": "code",
   "execution_count": null,
   "id": "2f8dcce6",
   "metadata": {},
   "outputs": [],
   "source": [
    "# dimensões do dataset\n",
    "df.shape"
   ]
  },
  {
   "cell_type": "code",
   "execution_count": null,
   "id": "ddeb54cc",
   "metadata": {},
   "outputs": [],
   "source": [
    "# filtrandro dados do estado de Minas Gerais\n",
    "df.loc[(df['uf'] == 'MG')]"
   ]
  },
  {
   "cell_type": "code",
   "execution_count": null,
   "id": "a6ebb536",
   "metadata": {},
   "outputs": [],
   "source": [
    "# novo_df recebe dados do estado de Minas Gerais\n",
    "novo_df = df.loc[(df['uf'] == 'MG')]"
   ]
  },
  {
   "cell_type": "code",
   "execution_count": null,
   "id": "278e946f",
   "metadata": {},
   "outputs": [],
   "source": [
    "# salvando os dados de Minas Gerais em arquivo csv\n",
    "novo_df.to_csv('minasgerais2021.csv',index=False)"
   ]
  },
  {
   "cell_type": "code",
   "execution_count": null,
   "id": "a3fd80ea",
   "metadata": {},
   "outputs": [],
   "source": [
    "# abrindo novo arquivo com os dados de Minas Gerais\n",
    "df = pd.read_csv('minasgerais2021.csv')"
   ]
  },
  {
   "cell_type": "code",
   "execution_count": null,
   "id": "c604e381",
   "metadata": {},
   "outputs": [],
   "source": [
    "# dimensões do dataset (linhas,colunas)\n",
    "df.shape"
   ]
  },
  {
   "cell_type": "code",
   "execution_count": null,
   "id": "592cbb27",
   "metadata": {},
   "outputs": [],
   "source": [
    "# colunas do dataset\n",
    "df.columns"
   ]
  },
  {
   "cell_type": "code",
   "execution_count": null,
   "id": "5e909532",
   "metadata": {},
   "outputs": [],
   "source": [
    "# amostras das primeiras linhas \n",
    "df.head() "
   ]
  },
  {
   "cell_type": "code",
   "execution_count": null,
   "id": "210941b5",
   "metadata": {},
   "outputs": [],
   "source": [
    "# valores ausentes\n",
    "df.isnull().sum()"
   ]
  },
  {
   "cell_type": "code",
   "execution_count": null,
   "id": "30484789",
   "metadata": {},
   "outputs": [],
   "source": [
    "# total de acidentes em MG no ano de 2021\n",
    "acidentes = df['id'].count()\n",
    "print(f\"Total de acidentes em 2021:\",acidentes)"
   ]
  },
  {
   "cell_type": "code",
   "execution_count": null,
   "id": "9ae4e355",
   "metadata": {},
   "outputs": [],
   "source": [
    "# amostras das últimas 10 linhas\n",
    "df.tail(10)"
   ]
  },
  {
   "cell_type": "code",
   "execution_count": null,
   "id": "04f0c623",
   "metadata": {},
   "outputs": [],
   "source": [
    "# valores estatísticos básicos\n",
    "df.describe()\n",
    "#count -> total registros\n",
    "#mean -> média\n",
    "#std -> desvio padrão\n",
    "#min -> valor mínimo encontrado\n",
    "#25% \n",
    "#50% -> pode se dizer a mediana\n",
    "#75%\n",
    "#max -> valor máximo encontrado"
   ]
  },
  {
   "cell_type": "code",
   "execution_count": null,
   "id": "909c637e",
   "metadata": {},
   "outputs": [],
   "source": [
    "# ordenando as datas\n",
    "df.sort_values('data_inversa')"
   ]
  },
  {
   "cell_type": "code",
   "execution_count": null,
   "id": "3867eb0d",
   "metadata": {},
   "outputs": [],
   "source": [
    "# soma do total de feridos no estado\n",
    "feridos = df['feridos'].sum()\n",
    "print(f\"Total de feridos no estado:\",feridos)"
   ]
  },
  {
   "cell_type": "code",
   "execution_count": null,
   "id": "8c0aa956",
   "metadata": {},
   "outputs": [],
   "source": [
    "# soma do total de mortos no estado\n",
    "mortos = df['mortos'].sum()\n",
    "print(f\"Total de mortos no estado:\",mortos)"
   ]
  },
  {
   "cell_type": "code",
   "execution_count": null,
   "id": "956c9c3c",
   "metadata": {},
   "outputs": [],
   "source": [
    "# maior número de feridos em um acidente\n",
    "df['feridos'].max()"
   ]
  },
  {
   "cell_type": "code",
   "execution_count": null,
   "id": "57b64dfd",
   "metadata": {},
   "outputs": [],
   "source": [
    "# localizando o registro do acidente onde houve o maior número de feridos \n",
    "df.loc[df['feridos'] == 49]"
   ]
  },
  {
   "cell_type": "code",
   "execution_count": null,
   "id": "c97ac496",
   "metadata": {},
   "outputs": [],
   "source": [
    "# maior número de óbitos em um acidente\n",
    "df['mortos'].max()"
   ]
  },
  {
   "cell_type": "code",
   "execution_count": null,
   "id": "7f3f40cf",
   "metadata": {},
   "outputs": [],
   "source": [
    "# localizando os registros de acidentes onde houve o maior número de óbitos \n",
    "df.loc[df['mortos'] == 5]"
   ]
  },
  {
   "cell_type": "code",
   "execution_count": null,
   "id": "18ddb806",
   "metadata": {},
   "outputs": [],
   "source": [
    "# soma de pessoas envolvidas nos acidentes\n",
    "df['pessoas'].sum()"
   ]
  },
  {
   "cell_type": "code",
   "execution_count": null,
   "id": "e1746867",
   "metadata": {},
   "outputs": [],
   "source": [
    "# soma de ilesos\n",
    "df['ilesos'].sum()"
   ]
  },
  {
   "cell_type": "code",
   "execution_count": null,
   "id": "66d4f46d",
   "metadata": {},
   "outputs": [],
   "source": [
    "# número máximo de pessoas envolvidas no acidente\n",
    "df['pessoas'].max()"
   ]
  },
  {
   "cell_type": "code",
   "execution_count": null,
   "id": "ccfcc737",
   "metadata": {},
   "outputs": [],
   "source": [
    "# localizando o registro do acidente onde teve o maior número de pessoas envolvidas\n",
    "df.loc[df['pessoas'] == 53]"
   ]
  },
  {
   "cell_type": "code",
   "execution_count": null,
   "id": "db2ce625",
   "metadata": {},
   "outputs": [],
   "source": [
    "# valores da coluna causa_acidente\n",
    "df['causa_acidente'].unique()"
   ]
  },
  {
   "cell_type": "code",
   "execution_count": null,
   "id": "8e8f065b",
   "metadata": {},
   "outputs": [],
   "source": [
    "# agrupamento acidentes por causa considerando a partir de 20 resgistros\n",
    "acidente = df.groupby(['causa_acidente']).size().sort_values(ascending=False)\n",
    "acidente_mais_20 = acidente[acidente>=20]\n",
    "acidente_mais_20"
   ]
  },
  {
   "cell_type": "code",
   "execution_count": null,
   "id": "4494bb16",
   "metadata": {},
   "outputs": [],
   "source": [
    "# gráfico principais causas de acidente\n",
    "import matplotlib.pyplot as plt\n",
    "acidente_mais_20.plot(kind='bar')\n",
    "plt.xlabel('Causa do Acidente')\n",
    "plt.ylabel('Quantidade de Acidentes')\n",
    "plt.title('Acidentes x Causa do Acidente')\n",
    "plt.show()"
   ]
  },
  {
   "cell_type": "code",
   "execution_count": null,
   "id": "53f4ac89",
   "metadata": {},
   "outputs": [],
   "source": [
    "# agrupamento de causa acidente x mortos\n",
    "causa_acidente = df.groupby(by='causa_acidente').sum()['mortos']"
   ]
  },
  {
   "cell_type": "code",
   "execution_count": null,
   "id": "f5c5f8b5",
   "metadata": {},
   "outputs": [],
   "source": [
    "# filtrando registro onde teve óbitos\n",
    "causa_maior_0 = causa_acidente[causa_acidente>0]"
   ]
  },
  {
   "cell_type": "code",
   "execution_count": null,
   "id": "b237782d",
   "metadata": {},
   "outputs": [],
   "source": [
    "# ordenando os registros do maior para o menor\n",
    "causa_maior_0.sort_values(ascending=False)"
   ]
  },
  {
   "cell_type": "code",
   "execution_count": null,
   "id": "5347ed57",
   "metadata": {},
   "outputs": [],
   "source": [
    "# primeiras 20 linhas\n",
    "causa_acidente20 = causa_maior_0.sort_values(ascending=False).head(20)\n",
    "causa_acidente20"
   ]
  },
  {
   "cell_type": "code",
   "execution_count": null,
   "id": "db97033f",
   "metadata": {},
   "outputs": [],
   "source": [
    "# gráfico mortos x causa do acidente\n",
    "causa_acidente20.plot(kind='bar')\n",
    "plt.xlabel('Causa do Acidente')\n",
    "plt.ylabel('Quantidade de Óbitos')\n",
    "plt.title('Mortos x Causa do Acidente')\n",
    "plt.show()"
   ]
  },
  {
   "cell_type": "code",
   "execution_count": null,
   "id": "52126640",
   "metadata": {},
   "outputs": [],
   "source": [
    "# agrupamento dos registros por br\n",
    "registros_rodv = df.groupby(['br']).size()\n",
    "reg_rodovia = registros_rodv.sort_values(ascending=False)\n",
    "reg_rodovia"
   ]
  },
  {
   "cell_type": "code",
   "execution_count": null,
   "id": "7fb8096f",
   "metadata": {},
   "outputs": [],
   "source": [
    "# gráfico acidentes x rodovia\n",
    "reg_rodovia.plot(kind='bar')\n",
    "plt.xlabel('BR')\n",
    "plt.ylabel('Quantidade de Acidentes')\n",
    "plt.title('Acidentes x Rodovia')\n",
    "plt.show()"
   ]
  },
  {
   "cell_type": "code",
   "execution_count": null,
   "id": "7427efd9",
   "metadata": {},
   "outputs": [],
   "source": [
    "# filtrando e agrupando os dados referente as rodovias \n",
    "qual_rodovia = df.groupby(by='br').sum()\n",
    "qual_rodovia"
   ]
  },
  {
   "cell_type": "code",
   "execution_count": null,
   "id": "b03b4fd9",
   "metadata": {},
   "outputs": [],
   "source": [
    "# soma de óbitos por rodovia\n",
    "m_rodovia = qual_rodovia.groupby(by='br').sum()['mortos']\n",
    "m_rodovia"
   ]
  },
  {
   "cell_type": "code",
   "execution_count": null,
   "id": "6f568d22",
   "metadata": {},
   "outputs": [],
   "source": [
    "# ordenando os valores do maior para o menor\n",
    "rodovia = m_rodovia.sort_values(ascending=False)\n",
    "rodovia"
   ]
  },
  {
   "cell_type": "code",
   "execution_count": null,
   "id": "2d1cd9ba",
   "metadata": {},
   "outputs": [],
   "source": [
    "# gráfico óbitos por rodovia\n",
    "rodovia.plot(kind='bar')\n",
    "plt.xlabel('BR')\n",
    "plt.ylabel('Quantidade de Óbitos')\n",
    "plt.title('Mortos x Rodovia')\n",
    "plt.show()"
   ]
  },
  {
   "cell_type": "code",
   "execution_count": null,
   "id": "e4621e06",
   "metadata": {},
   "outputs": [],
   "source": [
    "# agrupamento de registros de acidentes por dia da semana\n",
    "r_dia = df.groupby(by='dia_semana').count()['id']\n",
    "r_dia"
   ]
  },
  {
   "cell_type": "code",
   "execution_count": null,
   "id": "28ef6c85",
   "metadata": {},
   "outputs": [],
   "source": [
    "# ordenando os registros do maior para o menor\n",
    "dia_semana_acidente = r_dia.sort_values(ascending=False)\n",
    "dia_semana_acidente"
   ]
  },
  {
   "cell_type": "code",
   "execution_count": null,
   "id": "607e3e1b",
   "metadata": {},
   "outputs": [],
   "source": [
    "# gráfico registro de acidentes por dia da semana\n",
    "dia_semana_acidente.plot(kind='bar')\n",
    "plt.xlabel('Dia da Semana')\n",
    "plt.ylabel('Quantidade de Acidentes')\n",
    "plt.title('Acidentes x Dia da Semana')\n",
    "plt.show()"
   ]
  },
  {
   "cell_type": "code",
   "execution_count": null,
   "id": "d5b17ff2",
   "metadata": {},
   "outputs": [],
   "source": [
    "# agrupamento de óbitos por dia da semana\n",
    "dia = df.groupby(by='dia_semana').sum()['mortos']\n",
    "dia"
   ]
  },
  {
   "cell_type": "code",
   "execution_count": null,
   "id": "8008ab90",
   "metadata": {},
   "outputs": [],
   "source": [
    "# ordenando os registros do maior para o menor\n",
    "dia_semana = dia.sort_values(ascending=False)\n",
    "dia_semana"
   ]
  },
  {
   "cell_type": "code",
   "execution_count": null,
   "id": "1da0ce28",
   "metadata": {},
   "outputs": [],
   "source": [
    "# gráfico mortos por dia da semana\n",
    "dia_semana.plot(kind='bar')\n",
    "plt.xlabel('Dia da Semana')\n",
    "plt.ylabel('Quantidade de Óbitos')\n",
    "plt.title('Mortos x Dia da Semana')\n",
    "plt.show()"
   ]
  },
  {
   "cell_type": "code",
   "execution_count": null,
   "id": "83119e37",
   "metadata": {},
   "outputs": [],
   "source": [
    "# valores da coluna tipo_acidente\n",
    "df['tipo_acidente'].unique()"
   ]
  },
  {
   "cell_type": "code",
   "execution_count": null,
   "id": "d72badab",
   "metadata": {},
   "outputs": [],
   "source": [
    "# agrupamento de óbitos por tipo acidente\n",
    "tipo = df.groupby(by='tipo_acidente').sum()['mortos']"
   ]
  },
  {
   "cell_type": "code",
   "execution_count": null,
   "id": "f09e383a",
   "metadata": {},
   "outputs": [],
   "source": [
    "# ordenando número de óbitos por tipo acidente do maior para o menor, onde houve óbitos\n",
    "tipo_ac = tipo.sort_values(ascending=False)\n",
    "tipo_acidente = tipo_ac[tipo>0]\n",
    "tipo_acidente"
   ]
  },
  {
   "cell_type": "code",
   "execution_count": null,
   "id": "4adba549",
   "metadata": {},
   "outputs": [],
   "source": [
    "# gráfico mortos por tipo acidente\n",
    "tipo_acidente.plot(kind='bar')\n",
    "plt.xlabel('Tipo Acidente')\n",
    "plt.ylabel('Quantidade de Óbitos')\n",
    "plt.title('Mortos x Tipo Acidente')\n",
    "plt.show()"
   ]
  },
  {
   "cell_type": "code",
   "execution_count": null,
   "id": "dde6f7db",
   "metadata": {},
   "outputs": [],
   "source": [
    "# agrupamento de óbitos por município onde houve 10 ou mais registros\n",
    "municipio = df.groupby(by='municipio').sum()['mortos']\n",
    "muni_mortos = municipio[municipio>=10]\n",
    "muni_mortos"
   ]
  },
  {
   "cell_type": "code",
   "execution_count": null,
   "id": "7c8cbbe4",
   "metadata": {},
   "outputs": [],
   "source": [
    "# ordenando os registros do maior para o menor\n",
    "municipio_mortos_ord = muni_mortos.sort_values(ascending=False)\n",
    "municipio_mortos_ord"
   ]
  },
  {
   "cell_type": "code",
   "execution_count": null,
   "id": "6bcd3f70",
   "metadata": {},
   "outputs": [],
   "source": [
    "# gráfico mortos por municipio onde houve 10 ou mais registros\n",
    "municipio_mortos_ord.plot(kind='bar')\n",
    "plt.xlabel('Município')\n",
    "plt.ylabel('Quantidade de Óbitos')\n",
    "plt.title('Mortos x Município')\n",
    "plt.show()"
   ]
  },
  {
   "cell_type": "code",
   "execution_count": null,
   "id": "f4c034e1",
   "metadata": {},
   "outputs": [],
   "source": [
    "# valores da coluna tipo_pista\n",
    "df['tipo_pista'].unique()"
   ]
  },
  {
   "cell_type": "code",
   "execution_count": null,
   "id": "624ac20c",
   "metadata": {},
   "outputs": [],
   "source": [
    "# agrupamento dos registros de acidentes por tipo de pista\n",
    "tipo_pista = df.groupby(by='tipo_pista').count()['id']\n",
    "tipo_pista"
   ]
  },
  {
   "cell_type": "code",
   "execution_count": null,
   "id": "957248ee",
   "metadata": {},
   "outputs": [],
   "source": [
    "# ordenando os registros do maior para o menor\n",
    "t_pista = tipo_pista.sort_values(ascending=False)\n",
    "t_pista"
   ]
  },
  {
   "cell_type": "code",
   "execution_count": null,
   "id": "13d47c19",
   "metadata": {},
   "outputs": [],
   "source": [
    "# gráfico do percentual de acidentes por tipo de pista\n",
    "plt.figure(figsize=(7, 5))\n",
    "t_pista.plot.pie(fontsize=14, autopct='%0.0f%%', labeldistance=None, radius=1)\n",
    "plt.title('Percentual de Acidentes por Tipo de Pista', pad=10, fontsize=15)\n",
    "plt.legend(['Simples','Dupla','Múltipla',],loc='upper right', bbox_to_anchor=(1.1,1) )\n",
    "plt.ylabel('')\n",
    "plt.show()"
   ]
  },
  {
   "cell_type": "code",
   "execution_count": null,
   "id": "ebb05512",
   "metadata": {},
   "outputs": [],
   "source": [
    "# valores da coluna fase_dia\n",
    "df['fase_dia'].unique()"
   ]
  },
  {
   "cell_type": "code",
   "execution_count": null,
   "id": "1ce2d02f",
   "metadata": {},
   "outputs": [],
   "source": [
    "# agrupamento dos registros de acidentes por fase do dia\n",
    "f_dia = df.groupby(by='fase_dia').count()['id']"
   ]
  },
  {
   "cell_type": "code",
   "execution_count": null,
   "id": "05e6f167",
   "metadata": {},
   "outputs": [],
   "source": [
    "# ordenando os registros do maior para o menor\n",
    "fase_dia = f_dia.sort_values(ascending=False)\n",
    "fase_dia"
   ]
  },
  {
   "cell_type": "code",
   "execution_count": null,
   "id": "b31002ee",
   "metadata": {},
   "outputs": [],
   "source": [
    "# gráfico do percentual de acidentes por fase do dia \n",
    "plt.figure(figsize=(7, 5))\n",
    "fase_dia.plot.pie(fontsize=14, autopct='%0.0f%%', labeldistance=None, radius=1)\n",
    "plt.title('Percentual de Acidentes por Fase do Dia', pad=10, fontsize=15)\n",
    "plt.legend(['Pleno dia','Plena Noite','Amanhecer','Anoitecer'],loc='upper right', bbox_to_anchor=(1.2,1))\n",
    "plt.ylabel('')\n",
    "plt.show()"
   ]
  },
  {
   "cell_type": "code",
   "execution_count": null,
   "id": "c9aff0f0",
   "metadata": {},
   "outputs": [],
   "source": [
    "# valores da coluna condicao_metereologica\n",
    "df['condicao_metereologica'].unique()"
   ]
  },
  {
   "cell_type": "code",
   "execution_count": null,
   "id": "74b0a939",
   "metadata": {},
   "outputs": [],
   "source": [
    "# agrupamento dos registros de acidentes por condição metereologica\n",
    "tmp = df.groupby(by='condicao_metereologica').count()['id']"
   ]
  },
  {
   "cell_type": "code",
   "execution_count": null,
   "id": "a40c1a87",
   "metadata": {},
   "outputs": [],
   "source": [
    "# ordenando os resgistros do maior para o menor\n",
    "tempo = tmp.sort_values(ascending=False)\n",
    "tempo"
   ]
  },
  {
   "cell_type": "code",
   "execution_count": null,
   "id": "adf5e0ec",
   "metadata": {},
   "outputs": [],
   "source": [
    "# gráfico de acidentes por condição meteorológica\n",
    "tempo.plot(kind='bar')\n",
    "plt.xlabel('Condição Meteorológica')\n",
    "plt.ylabel('Quantidade de Acidentes')\n",
    "plt.title('Acidentes x Condição Meteorológica')\n",
    "plt.show()"
   ]
  },
  {
   "cell_type": "code",
   "execution_count": null,
   "id": "1c7b0354",
   "metadata": {},
   "outputs": [],
   "source": [
    "# valores da coluna classificacao_acidente\n",
    "df['classificacao_acidente'].unique()"
   ]
  },
  {
   "cell_type": "code",
   "execution_count": null,
   "id": "04b20119",
   "metadata": {},
   "outputs": [],
   "source": [
    "# agrupamento dos registros de acidentes por classifição do acidente\n",
    "cl_acidente = df.groupby(by='classificacao_acidente').count()['id']"
   ]
  },
  {
   "cell_type": "code",
   "execution_count": null,
   "id": "4901391f",
   "metadata": {},
   "outputs": [],
   "source": [
    "# ordenando os resgistros do maior para o menor\n",
    "classif_acidente = cl_acidente.sort_values(ascending=False)\n",
    "classif_acidente"
   ]
  },
  {
   "cell_type": "code",
   "execution_count": null,
   "id": "7d508899",
   "metadata": {},
   "outputs": [],
   "source": [
    "# gráfico do percentual de acidentes por classificação do acidente\n",
    "plt.figure(figsize=(7, 5))\n",
    "classif_acidente.plot.pie(fontsize=14, autopct='%0.0f%%', labeldistance=None, radius=1)\n",
    "plt.title('Percentual de Acidentes por Classificação do Acidente', pad=10, fontsize=15)\n",
    "plt.legend(['Com Vítimas Feridas','Sem Vítimas','Com Vítimas Fatais'],loc='upper right', bbox_to_anchor=(1.32,1))\n",
    "plt.ylabel('')\n",
    "plt.show()"
   ]
  }
 ],
 "metadata": {
  "kernelspec": {
   "display_name": "Python 3 (ipykernel)",
   "language": "python",
   "name": "python3"
  },
  "language_info": {
   "codemirror_mode": {
    "name": "ipython",
    "version": 3
   },
   "file_extension": ".py",
   "mimetype": "text/x-python",
   "name": "python",
   "nbconvert_exporter": "python",
   "pygments_lexer": "ipython3",
   "version": "3.9.13"
  }
 },
 "nbformat": 4,
 "nbformat_minor": 5
}
